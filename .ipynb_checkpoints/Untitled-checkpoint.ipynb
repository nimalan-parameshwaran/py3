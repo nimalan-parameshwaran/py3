{
 "cells": [
  {
   "cell_type": "code",
   "execution_count": 2,
   "id": "41cad6e2",
   "metadata": {},
   "outputs": [
    {
     "name": "stdout",
     "output_type": "stream",
     "text": [
      "31\n"
     ]
    }
   ],
   "source": [
    "import os\n",
    "def create_python_script(filename):\n",
    "    comments = \"# Start of a new Python program\"\n",
    "    with open(filename, \"w\") as file:\n",
    "        file.write(comments)\n",
    "    filesize = os.path.getsize(filename)\n",
    "    return filesize\n",
    "\n",
    "print(create_python_script(\"program.py\"))\n"
   ]
  },
  {
   "cell_type": "code",
   "execution_count": 3,
   "id": "d691e9a5",
   "metadata": {},
   "outputs": [
    {
     "name": "stdout",
     "output_type": "stream",
     "text": [
      "['script.py']\n"
     ]
    }
   ],
   "source": [
    "import os\n",
    "\n",
    "def new_directory(directory, filename):\n",
    "    # Before creating a new directory, check to see if it already exists\n",
    "    if not os.path.isdir(directory):\n",
    "        os.mkdir(directory)\n",
    "\n",
    "    # Create the new file inside of the new directory\n",
    "    os.chdir(directory)\n",
    "    with open(filename, \"w\") as file:\n",
    "        pass\n",
    "\n",
    "    # Return the list of files in the new directory\n",
    "    return os.listdir()\n",
    "\n",
    "print(new_directory(\"PythonPrograms\", \"script.py\"))\n"
   ]
  },
  {
   "cell_type": "code",
   "execution_count": 4,
   "id": "2e03c2e1",
   "metadata": {},
   "outputs": [
    {
     "name": "stdout",
     "output_type": "stream",
     "text": [
      "2023-04-22\n"
     ]
    }
   ],
   "source": [
    "import os\n",
    "import datetime\n",
    "\n",
    "def file_date(filename):\n",
    "    # Create the file in the current directory\n",
    "    with open(filename, \"w\") as file:\n",
    "        pass\n",
    "\n",
    "    # Get the timestamp for the file\n",
    "    timestamp = os.path.getmtime(filename)\n",
    "\n",
    "    # Convert the timestamp into a readable format, then into a string\n",
    "    date = datetime.datetime.fromtimestamp(timestamp).date()\n",
    "    date_string = date.strftime(\"%Y-%m-%d\")\n",
    "\n",
    "    # Return just the date portion\n",
    "    return date_string\n",
    "\n",
    "print(file_date(\"newfile.txt\"))\n"
   ]
  },
  {
   "cell_type": "code",
   "execution_count": 5,
   "id": "83b22fc6",
   "metadata": {},
   "outputs": [
    {
     "name": "stdout",
     "output_type": "stream",
     "text": [
      "C:\\Users\\nimal\\OneDrive\\Documents\\py3\n"
     ]
    }
   ],
   "source": [
    "import os\n",
    "\n",
    "def parent_directory():\n",
    "    # Create a relative path to the parent\n",
    "    # of the current working directory\n",
    "    relative_parent = os.path.join(os.getcwd(), \"..\")\n",
    "\n",
    "    # Return the absolute path of the parent directory\n",
    "    return os.path.abspath(relative_parent)\n",
    "\n",
    "print(parent_directory())\n"
   ]
  },
  {
   "cell_type": "code",
   "execution_count": null,
   "id": "d59cd26b",
   "metadata": {},
   "outputs": [],
   "source": []
  }
 ],
 "metadata": {
  "kernelspec": {
   "display_name": "Python 3 (ipykernel)",
   "language": "python",
   "name": "python3"
  },
  "language_info": {
   "codemirror_mode": {
    "name": "ipython",
    "version": 3
   },
   "file_extension": ".py",
   "mimetype": "text/x-python",
   "name": "python",
   "nbconvert_exporter": "python",
   "pygments_lexer": "ipython3",
   "version": "3.10.9"
  }
 },
 "nbformat": 4,
 "nbformat_minor": 5
}
