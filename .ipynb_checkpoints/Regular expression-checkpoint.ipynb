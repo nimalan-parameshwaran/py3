{
 "cells": [
  {
   "cell_type": "markdown",
   "id": "44fa59d9",
   "metadata": {},
   "source": [
    "# Regular expression\n",
    "\n",
    " first impot regex[ import re ]\n",
    ">special sequence of characters that uses a search pattern to find a string or set of strings.\n",
    "\n",
    ">It can detect the presence or absence of a text by matching it with a particular pattern, and also can split a pattern into one or more sub-patterns\n",
    "\n",
    ">\"re\"module that supports the use of regex in Python.\n",
    "\n",
    ">Here, it either returns the first match or else none.\n"
   ]
  },
  {
   "cell_type": "code",
   "execution_count": 19,
   "id": "6d8390d8",
   "metadata": {},
   "outputs": [
    {
     "name": "stdout",
     "output_type": "stream",
     "text": [
      "Start Index: 19\n",
      "End Index: 25\n"
     ]
    }
   ],
   "source": [
    "import re\n",
    "\n",
    "s = 'A computer science portal'\n",
    "\n",
    "match = re.search(r'portal', s)\n",
    "\n",
    "print('Start Index:', match.start())\n",
    "print('End Index:', match.end())"
   ]
  },
  {
   "cell_type": "code",
   "execution_count": 18,
   "id": "2a67553d",
   "metadata": {},
   "outputs": [
    {
     "name": "stdout",
     "output_type": "stream",
     "text": [
      "Start Index: 2\n",
      "End Index: 3\n"
     ]
    }
   ],
   "source": [
    "import re\n",
    "\n",
    "s = '123456'\n",
    "'''  012345678  '''\n",
    "match = re.search(r'3', s)\n",
    "\n",
    "print('Start Index:', match.start())\n",
    "print('End Index:', match.end())\n"
   ]
  },
  {
   "cell_type": "raw",
   "id": "a59f6c2e",
   "metadata": {},
   "source": [
    "MetaCharacters\n",
    "To understand the RE analogy, MetaCharacters are useful, important, and will be used in functions of module re. Below is the list of metacharacters.\n",
    "\n",
    "MetaCharacters\tDescription\n",
    "\\\tUsed to drop the special meaning of character following it\n",
    "[]\tRepresent a character class\n",
    "^\tMatches the beginning\n",
    "$\tMatches the end\n",
    ".\tMatches any character except newline\n",
    "|\tMeans OR (Matches with any of the characters separated by it.\n",
    "?\tMatches zero or one occurrence\n",
    "*\tAny number of occurrences (including 0 occurrences)\n",
    "+\tOne or more occurrences\n",
    "{}\tIndicate the number of occurrences of a preceding regex to match.\n",
    "()\tEnclose a group of Regex"
   ]
  },
  {
   "cell_type": "raw",
   "id": "3b0467d5",
   "metadata": {},
   "source": [
    "re.match(pattern, string) # to use the match method\n",
    "re.findall(pattern, string) # to use the findall method \n",
    "re.sub(pattern, string) # to use the sub method\n",
    "re.search(pattern, string) # to use the search method \n",
    "re.split(pattern, string) # to use the split method"
   ]
  },
  {
   "cell_type": "code",
   "execution_count": null,
   "id": "cfd3f901",
   "metadata": {},
   "outputs": [],
   "source": [
    "# match() Method"
   ]
  },
  {
   "cell_type": "code",
   "execution_count": 3,
   "id": "7d3d4e98",
   "metadata": {},
   "outputs": [
    {
     "name": "stdout",
     "output_type": "stream",
     "text": [
      "None\n"
     ]
    },
    {
     "data": {
      "text/plain": [
       "'There are some uppercase letters in the _txt variable, but the pattern is looking for lowercase letters.'"
      ]
     },
     "execution_count": 3,
     "metadata": {},
     "output_type": "execute_result"
    }
   ],
   "source": [
    "import re \n",
    "\n",
    "_txt = 'freeCodeCamp'\n",
    "regex_1 = '^freecodecamp$'\n",
    "\n",
    "result = re.match(regex_1, _txt)\n",
    "print(result) \n",
    "\n",
    "'''There are some uppercase letters in the _txt variable, but the pattern is looking for lowercase letters.'''\n",
    "# returns None"
   ]
  },
  {
   "cell_type": "code",
   "execution_count": 4,
   "id": "b19b4e5f",
   "metadata": {},
   "outputs": [
    {
     "name": "stdout",
     "output_type": "stream",
     "text": [
      "<re.Match object; span=(0, 12), match='freecodecamp'>\n"
     ]
    },
    {
     "data": {
      "text/plain": [
       "\" '^freecodecamp$' \""
      ]
     },
     "execution_count": 4,
     "metadata": {},
     "output_type": "execute_result"
    }
   ],
   "source": [
    "import re \n",
    "\n",
    "_txt = 'freecodecamp'\n",
    "regex_1 = '^freecodecamp$'\n",
    "\n",
    "result = re.match(regex_1, _txt)\n",
    "print(result) \n",
    "\n",
    "''' '^freecodecamp$' '''"
   ]
  },
  {
   "cell_type": "code",
   "execution_count": 5,
   "id": "d3f09b5a",
   "metadata": {},
   "outputs": [
    {
     "name": "stdout",
     "output_type": "stream",
     "text": [
      "<re.Match object; span=(0, 12), match='freecodecamp'>\n"
     ]
    },
    {
     "data": {
      "text/plain": [
       "\" '^f..........p$' \""
      ]
     },
     "execution_count": 5,
     "metadata": {},
     "output_type": "execute_result"
    }
   ],
   "source": [
    "import re \n",
    "\n",
    "_txt = 'freecodecamp'\n",
    "regex_1 = '^f..........p$'\n",
    "\n",
    "result = re.match(regex_1, _txt)\n",
    "print(result) \n",
    "\n",
    "''' '^f..........p$' '''"
   ]
  },
  {
   "cell_type": "code",
   "execution_count": null,
   "id": "963a24a6",
   "metadata": {},
   "outputs": [],
   "source": [
    "#search() Method"
   ]
  },
  {
   "cell_type": "code",
   "execution_count": 8,
   "id": "8b377304",
   "metadata": {},
   "outputs": [
    {
     "name": "stdout",
     "output_type": "stream",
     "text": [
      "<re.Match object; span=(6, 12), match='Friday'>\n"
     ]
    }
   ],
   "source": [
    "import re \n",
    "\n",
    "my_txt = 'Every Friday, we have a standup meeting. The only reason why we might not have a meeting on a Friday is public holiday. That Friday, we talk about what we did in the previous week, and what we are going to do in the week starting from that Friday.'\n",
    "\n",
    "my_regex = 'friday'\n",
    "\n",
    "res = re.search(my_regex, my_txt, re.IGNORECASE)\n",
    "print(res) \n",
    "\n",
    "# <re.Match object; span=(6, 12), match='Friday'>\n",
    "\n",
    "# (my_regex, my_txt, re.IGNORECASE)\n",
    "\n",
    "#re.IGNORECASE ~ use "
   ]
  },
  {
   "cell_type": "code",
   "execution_count": 9,
   "id": "4b628c24",
   "metadata": {},
   "outputs": [
    {
     "name": "stdout",
     "output_type": "stream",
     "text": [
      "The first occurrence is located at index  6\n"
     ]
    }
   ],
   "source": [
    "res = re.search(my_regex, my_txt, re.IGNORECASE)\n",
    "print(\"The first occurrence is located at index \", res.start())\n",
    "\n",
    "''' res.start() '''\n",
    "# The first occurrence is located at index  6"
   ]
  },
  {
   "cell_type": "code",
   "execution_count": 11,
   "id": "f2b66a9c",
   "metadata": {},
   "outputs": [
    {
     "name": "stdout",
     "output_type": "stream",
     "text": [
      "The first occurrence is located between index 6 and index 12\n"
     ]
    },
    {
     "data": {
      "text/plain": [
       "' res.start()  res.end() '"
      ]
     },
     "execution_count": 11,
     "metadata": {},
     "output_type": "execute_result"
    }
   ],
   "source": [
    "res = re.search(my_regex, my_txt, re.IGNORECASE)\n",
    "print(\"The first occurrence is located between index\", res.start(), \"and index\", res.end()) \n",
    "\n",
    "''' res.start()  res.end() '''\n",
    "# The first occurrence is located between index 6 and index 12"
   ]
  },
  {
   "cell_type": "code",
   "execution_count": 13,
   "id": "8e863bb8",
   "metadata": {},
   "outputs": [
    {
     "name": "stdout",
     "output_type": "stream",
     "text": [
      "Found no match\n"
     ]
    }
   ],
   "source": [
    "import re \n",
    "\n",
    "my_txt = 'Every Friday, we have a standup meeting. The only reason why we might not have a meeting on a Friday is public holiday. That Friday, we talk about what we did in the previous week, and what we are going to do in the week starting from that Friday.'\n",
    "\n",
    "my_regex = 'friday'\n",
    "\n",
    "if re.search(my_regex, my_txt, re.IGNORECASE):\n",
    "    print(\"Found a match!\") #Output: Found a match!\n",
    "else:\n",
    "    print(\"Found no match\")   \n",
    "res = re.search(my_regex, my_txt, re.IGNORECASE)"
   ]
  },
  {
   "cell_type": "code",
   "execution_count": 15,
   "id": "02ff95a5",
   "metadata": {},
   "outputs": [
    {
     "name": "stdout",
     "output_type": "stream",
     "text": [
      "Found no match\n"
     ]
    }
   ],
   "source": [
    "import re \n",
    "\n",
    "my_txt = 'Every Friday, we have a standup meeting. The only reason why we might not have a meeting on a Friday is public holiday. That Friday, we talk about what we did in the previous week, and what we are going to do in the week starting from that Friday.'\n",
    "\n",
    "my_regex = 'friday'\n",
    "\n",
    "if re.search(my_regex, my_txt):\n",
    "    print(\"Found a match!\")\n",
    "else:\n",
    "    print(\"Found no match\")   \n",
    "res = re.search(my_regex, my_txt, re.IGNORECASE)\n",
    "#Output: Found no match"
   ]
  },
  {
   "cell_type": "code",
   "execution_count": 6,
   "id": "0d8c6a52",
   "metadata": {},
   "outputs": [
    {
     "name": "stdout",
     "output_type": "stream",
     "text": [
      "12345\n"
     ]
    }
   ],
   "source": [
    "log = \"july 31 07:51:48 mycomputer bad process[12345]: ERROR Performing package upgrade\"\n",
    "index = log.index(\"[\")\n",
    "print(log[index+1:index+6])\n",
    "# the code uses string slicing to extract the characters from the log string starting at the character immediately after the opening square bracket (index+1) up to but not including the character at index+6. These characters correspond to the process ID in the log message, which in this case is \"12345\""
   ]
  },
  {
   "cell_type": "code",
   "execution_count": 7,
   "id": "5a0a7b25",
   "metadata": {},
   "outputs": [
    {
     "name": "stdout",
     "output_type": "stream",
     "text": [
      "12345\n"
     ]
    }
   ],
   "source": [
    "import re\n",
    "log = \"july 31 07:51:48 mycomputer bad process[12345]: ERROR Performing package upgrade\"\n",
    "regex = r\"\\[(\\d+)\\]\"\n",
    "result = re.search(regex, log)\n",
    "print(result[1])"
   ]
  },
  {
   "cell_type": "code",
   "execution_count": 6,
   "id": "460b74c1",
   "metadata": {},
   "outputs": [
    {
     "data": {
      "text/plain": [
       "<re.Match object; span=(2, 5), match='aza'>"
      ]
     },
     "execution_count": 6,
     "metadata": {},
     "output_type": "execute_result"
    }
   ],
   "source": [
    "import re\n",
    "result = re.search(r\"aza\",\"plaza\")\n",
    "result"
   ]
  },
  {
   "cell_type": "code",
   "execution_count": 7,
   "id": "316965f5",
   "metadata": {},
   "outputs": [
    {
     "data": {
      "text/plain": [
       "<re.Match object; span=(1, 4), match='aza'>"
      ]
     },
     "execution_count": 7,
     "metadata": {},
     "output_type": "execute_result"
    }
   ],
   "source": [
    "result = re.search(r\"aza\",\"bazaar\")\n",
    "result"
   ]
  },
  {
   "cell_type": "code",
   "execution_count": 8,
   "id": "ae0bf10a",
   "metadata": {},
   "outputs": [
    {
     "name": "stdout",
     "output_type": "stream",
     "text": [
      "None\n"
     ]
    }
   ],
   "source": [
    "result = re.search(r\"aza\",\"maze\")\n",
    "print(result)"
   ]
  },
  {
   "cell_type": "code",
   "execution_count": 9,
   "id": "de6e96a5",
   "metadata": {},
   "outputs": [
    {
     "name": "stdout",
     "output_type": "stream",
     "text": [
      "<re.Match object; span=(0, 1), match='x'>\n"
     ]
    }
   ],
   "source": [
    "print(re.search(r\"^x\",\"xenon\"))"
   ]
  },
  {
   "cell_type": "code",
   "execution_count": 10,
   "id": "116c73b0",
   "metadata": {},
   "outputs": [
    {
     "name": "stdout",
     "output_type": "stream",
     "text": [
      "<re.Match object; span=(0, 4), match='peng'>\n"
     ]
    }
   ],
   "source": [
    "print(re.search(r\"p.ng\", \"penguin\"))"
   ]
  },
  {
   "cell_type": "code",
   "execution_count": 11,
   "id": "c54f4001",
   "metadata": {},
   "outputs": [
    {
     "name": "stdout",
     "output_type": "stream",
     "text": [
      "<re.Match object; span=(4, 8), match='ping'>\n"
     ]
    }
   ],
   "source": [
    "print(re.search(r\"p.ng\", \"clapping\"))"
   ]
  },
  {
   "cell_type": "code",
   "execution_count": 12,
   "id": "9800dd66",
   "metadata": {},
   "outputs": [
    {
     "name": "stdout",
     "output_type": "stream",
     "text": [
      "<re.Match object; span=(1, 5), match='pong'>\n"
     ]
    }
   ],
   "source": [
    "print(re.search(r\"p.ng\", \"sponge\"))"
   ]
  },
  {
   "cell_type": "code",
   "execution_count": 13,
   "id": "eb4bd05f",
   "metadata": {},
   "outputs": [
    {
     "name": "stdout",
     "output_type": "stream",
     "text": [
      "<re.Match object; span=(0, 4), match='PeNg'>\n"
     ]
    }
   ],
   "source": [
    "print(re.search(r\"p.ng\", \"PeNguin\",re.IGNORECASE))"
   ]
  },
  {
   "cell_type": "code",
   "execution_count": 14,
   "id": "4f82fca9",
   "metadata": {},
   "outputs": [
    {
     "name": "stdout",
     "output_type": "stream",
     "text": [
      "<re.Match object; span=(2, 6), match='LCOM'>\n"
     ]
    }
   ],
   "source": [
    "print(re.search(r\".COM\", \"WELCOME\"))"
   ]
  },
  {
   "cell_type": "code",
   "execution_count": 15,
   "id": "a2daaf8a",
   "metadata": {},
   "outputs": [
    {
     "name": "stdout",
     "output_type": "stream",
     "text": [
      "None\n"
     ]
    }
   ],
   "source": [
    "print(re.search(r\"\\.COM\", \"WELCOME\"))"
   ]
  },
  {
   "cell_type": "code",
   "execution_count": 16,
   "id": "ee86ff68",
   "metadata": {},
   "outputs": [
    {
     "name": "stdout",
     "output_type": "stream",
     "text": [
      "<re.Match object; span=(16, 20), match='.com'>\n"
     ]
    }
   ],
   "source": [
    "print(re.search(r\"\\.com\", \"nimalan936@gmail.com\"))"
   ]
  },
  {
   "cell_type": "code",
   "execution_count": 17,
   "id": "0998e681",
   "metadata": {},
   "outputs": [
    {
     "data": {
      "text/plain": [
       "\" \\n is a sequence using Python to indicate a new line, and \\t does the same for tabs. When we see a pattern that includes a backslash, it could be escaping a special regex character or a special string character. Using raw strings, like we've been doing, helps avoid some of these possible confusion because the special characters won't be interpreted when generating the string.\""
      ]
     },
     "execution_count": 17,
     "metadata": {},
     "output_type": "execute_result"
    }
   ],
   "source": [
    "''' \\n is a sequence using Python to indicate a new line, and \\t does the same for tabs. When we see a pattern that includes a backslash, it could be escaping a special regex character or a special string character. Using raw strings, like we've been doing, helps avoid some of these possible confusion because the special characters won't be interpreted when generating the string.'''"
   ]
  },
  {
   "cell_type": "code",
   "execution_count": 18,
   "id": "2a90b67d",
   "metadata": {},
   "outputs": [
    {
     "name": "stdout",
     "output_type": "stream",
     "text": [
      "<re.Match object; span=(0, 4), match='This'>\n"
     ]
    }
   ],
   "source": [
    "print(re.search(r\"\\w*\", \"This is an example\"))"
   ]
  },
  {
   "cell_type": "code",
   "execution_count": 19,
   "id": "f72e3452",
   "metadata": {},
   "outputs": [
    {
     "name": "stdout",
     "output_type": "stream",
     "text": [
      "<re.Match object; span=(0, 19), match='And_this_is_another'>\n"
     ]
    }
   ],
   "source": [
    "print(re.search(r\"\\w*\", \"And_this_is_another\"))"
   ]
  },
  {
   "cell_type": "code",
   "execution_count": 20,
   "id": "f3115f86",
   "metadata": {},
   "outputs": [
    {
     "name": "stdout",
     "output_type": "stream",
     "text": [
      "<re.Match object; span=(0, 9), match='Argentina'>\n"
     ]
    }
   ],
   "source": [
    "print(re.search(r\"A.*a\",\"Argentina\"))"
   ]
  },
  {
   "cell_type": "code",
   "execution_count": 21,
   "id": "4bd6fc8b",
   "metadata": {},
   "outputs": [
    {
     "name": "stdout",
     "output_type": "stream",
     "text": [
      "<re.Match object; span=(0, 9), match='Azerbaija'>\n"
     ]
    }
   ],
   "source": [
    "print(re.search(r\"A.*a\",\"Azerbaijan\"))"
   ]
  },
  {
   "cell_type": "code",
   "execution_count": 22,
   "id": "3dce4276",
   "metadata": {},
   "outputs": [
    {
     "name": "stdout",
     "output_type": "stream",
     "text": [
      "None\n"
     ]
    }
   ],
   "source": [
    "print(re.search(r\"A.*a$\",\"Azerbaijan\"))"
   ]
  },
  {
   "cell_type": "code",
   "execution_count": 23,
   "id": "fb465846",
   "metadata": {},
   "outputs": [
    {
     "name": "stdout",
     "output_type": "stream",
     "text": [
      "<re.Match object; span=(0, 9), match='Australia'>\n"
     ]
    }
   ],
   "source": [
    "print(re.search(r\"A.*a$\",\"Australia\"))"
   ]
  },
  {
   "cell_type": "code",
   "execution_count": 24,
   "id": "fc931ca0",
   "metadata": {},
   "outputs": [
    {
     "name": "stdout",
     "output_type": "stream",
     "text": [
      "<re.Match object; span=(0, 30), match='_this_is_a_valid_variable_name'>\n"
     ]
    }
   ],
   "source": [
    "pattern = r\"^[a-zA-z_][a-zA-Z0-9_]*$\"\n",
    "print(re.search(pattern,\"_this_is_a_valid_variable_name\"))"
   ]
  },
  {
   "cell_type": "code",
   "execution_count": 25,
   "id": "3796b67f",
   "metadata": {},
   "outputs": [
    {
     "name": "stdout",
     "output_type": "stream",
     "text": [
      "None\n"
     ]
    }
   ],
   "source": [
    "print(re.search(pattern,\"this is a valid variable name\"))"
   ]
  },
  {
   "cell_type": "code",
   "execution_count": 26,
   "id": "6fa39d8d",
   "metadata": {},
   "outputs": [
    {
     "name": "stdout",
     "output_type": "stream",
     "text": [
      "<re.Match object; span=(0, 11), match='my_variable'>\n"
     ]
    }
   ],
   "source": [
    "print(re.search(pattern,\"my_variable\"))"
   ]
  },
  {
   "cell_type": "code",
   "execution_count": 27,
   "id": "539c7e90",
   "metadata": {},
   "outputs": [
    {
     "name": "stdout",
     "output_type": "stream",
     "text": [
      "None\n"
     ]
    }
   ],
   "source": [
    "print(re.search(pattern,\"22this_is_a_valid_variable_name\"))"
   ]
  },
  {
   "cell_type": "code",
   "execution_count": 28,
   "id": "bae0e0cd",
   "metadata": {},
   "outputs": [
    {
     "data": {
      "text/plain": [
       "<re.Match object; span=(0, 13), match='Lovelace, Ada'>"
      ]
     },
     "execution_count": 28,
     "metadata": {},
     "output_type": "execute_result"
    }
   ],
   "source": [
    "result = re.search(r\"^(\\w*), (\\w*)$\",\"Lovelace, Ada\")\n",
    "result"
   ]
  },
  {
   "cell_type": "code",
   "execution_count": 29,
   "id": "8d7ce8e7",
   "metadata": {},
   "outputs": [
    {
     "name": "stdout",
     "output_type": "stream",
     "text": [
      "('Lovelace', 'Ada')\n"
     ]
    }
   ],
   "source": [
    "print(result.groups())"
   ]
  },
  {
   "cell_type": "code",
   "execution_count": 30,
   "id": "e2bab96d",
   "metadata": {},
   "outputs": [
    {
     "name": "stdout",
     "output_type": "stream",
     "text": [
      "Lovelace, Ada\n"
     ]
    }
   ],
   "source": [
    "print(result[0])"
   ]
  },
  {
   "cell_type": "code",
   "execution_count": 31,
   "id": "2cb20445",
   "metadata": {},
   "outputs": [
    {
     "name": "stdout",
     "output_type": "stream",
     "text": [
      "Lovelace\n"
     ]
    }
   ],
   "source": [
    "print(result[1])"
   ]
  },
  {
   "cell_type": "code",
   "execution_count": 32,
   "id": "f02c85c3",
   "metadata": {},
   "outputs": [
    {
     "name": "stdout",
     "output_type": "stream",
     "text": [
      "Ada\n"
     ]
    }
   ],
   "source": [
    "print(result[2])"
   ]
  },
  {
   "cell_type": "code",
   "execution_count": 33,
   "id": "13ff61c0",
   "metadata": {},
   "outputs": [
    {
     "data": {
      "text/plain": [
       "'Ada Lovelace'"
      ]
     },
     "execution_count": 33,
     "metadata": {},
     "output_type": "execute_result"
    }
   ],
   "source": [
    "\"{} {}\".format(result[2],result[1])"
   ]
  },
  {
   "cell_type": "code",
   "execution_count": 34,
   "id": "c43dc31b",
   "metadata": {},
   "outputs": [
    {
     "data": {
      "text/plain": [
       "'Dennis Ritchie'"
      ]
     },
     "execution_count": 34,
     "metadata": {},
     "output_type": "execute_result"
    }
   ],
   "source": [
    "def rearrange_name(name):\n",
    "    result = re.search(r\"^(\\w*),(\\w*)$\", name)\n",
    "    if result is None:\n",
    "        return name\n",
    "    return\"{} {}\".format(result[2], result[1])\n",
    "rearrange_name(\"Ritchie,Dennis\")"
   ]
  },
  {
   "cell_type": "code",
   "execution_count": 35,
   "id": "a22955f0",
   "metadata": {},
   "outputs": [
    {
     "name": "stdout",
     "output_type": "stream",
     "text": [
      "<re.Match object; span=(2, 7), match='ghost'>\n"
     ]
    }
   ],
   "source": [
    "print(re.search(r\"[a-zA-Z]{5}\", \"a ghost\"))"
   ]
  },
  {
   "cell_type": "code",
   "execution_count": 39,
   "id": "b0b887e6",
   "metadata": {},
   "outputs": [
    {
     "name": "stdout",
     "output_type": "stream",
     "text": [
      "<re.Match object; span=(2, 7), match='scary'>\n"
     ]
    }
   ],
   "source": [
    "print(re.search(r\"[a-zA-Z]{5}\", \"a scary ghost appeared\"))"
   ]
  },
  {
   "cell_type": "code",
   "execution_count": 38,
   "id": "a0bc2bbc",
   "metadata": {},
   "outputs": [
    {
     "name": "stdout",
     "output_type": "stream",
     "text": [
      "['scary', 'ghost', 'appea']\n"
     ]
    }
   ],
   "source": [
    "print(re.findall(r\"[a-zA-Z]{5}\", \"a scary ghost appeared\"))"
   ]
  },
  {
   "cell_type": "code",
   "execution_count": 41,
   "id": "59fc4ac9",
   "metadata": {},
   "outputs": [
    {
     "name": "stdout",
     "output_type": "stream",
     "text": [
      "['scary', 'ghost']\n"
     ]
    }
   ],
   "source": [
    "print(re.findall(r\"\\b[a-zA-Z]{5}\\b\", \"a scary ghost appeared\"))\n",
    "#\\b......format.....\\b use to full word only"
   ]
  },
  {
   "cell_type": "code",
   "execution_count": 42,
   "id": "658934cf",
   "metadata": {},
   "outputs": [
    {
     "name": "stdout",
     "output_type": "stream",
     "text": [
      "['really', 'banana']\n"
     ]
    }
   ],
   "source": [
    "print(re.findall(r\"\\w{5,10}\", \"I really like banana\"))"
   ]
  },
  {
   "cell_type": "code",
   "execution_count": 59,
   "id": "bd0aa956",
   "metadata": {},
   "outputs": [
    {
     "name": "stdout",
     "output_type": "stream",
     "text": [
      "['really', 'banankka']\n"
     ]
    }
   ],
   "source": [
    "print(re.findall(r\"\\w{5,}\", \"I really like banana\"))"
   ]
  },
  {
   "cell_type": "code",
   "execution_count": 58,
   "id": "235232dd",
   "metadata": {},
   "outputs": [
    {
     "name": "stdout",
     "output_type": "stream",
     "text": [
      "<re.Match object; span=(14, 26), match='strawberries'>\n"
     ]
    }
   ],
   "source": [
    "print(re.search(r\"s\\w{,20}\", \"I really like strawberries\"))"
   ]
  },
  {
   "cell_type": "code",
   "execution_count": 3,
   "id": "f046fa40",
   "metadata": {},
   "outputs": [
    {
     "name": "stdout",
     "output_type": "stream",
     "text": [
      "12345\n"
     ]
    },
    {
     "data": {
      "text/plain": [
       "\"The first character of the pattern is the backslash, which is used as the escape character. This means that the next character, which is a square bracket here, is treated literally for matching purposes. After the square bracket, comes the first parentheses. Since it isn't escaped, we know it'll be used as a capturing group. The capturing group parentheses are wrapping the backslash d+ symbols. From our discussion of special characters and repetition qualifiers, we know that this expression will match one or more numerical characters. After the closing parentheses of the capturing group, we have the closing square bracket symbol, also proceeded by the escape character. After calling the search function, we know that because we're capturing groups in an expression, we can access the matching data by accessing the value at index 1\\n\""
      ]
     },
     "execution_count": 3,
     "metadata": {},
     "output_type": "execute_result"
    }
   ],
   "source": [
    "import re\n",
    "log = \"july 31 07:51:48 mycomputer bad process[12345]: ERROR Performing package upgrade\"\n",
    "regex = r\"\\[(\\d+)\\]\"\n",
    "result = re.search(regex, log)\n",
    "print(result[1])\n",
    "'''The first character of the pattern is the backslash, which is used as the escape character. This means that the next character, which is a square bracket here, is treated literally for matching purposes. After the square bracket, comes the first parentheses. Since it isn't escaped, we know it'll be used as a capturing group. The capturing group parentheses are wrapping the backslash d+ symbols. From our discussion of special characters and repetition qualifiers, we know that this expression will match one or more numerical characters. After the closing parentheses of the capturing group, we have the closing square bracket symbol, also proceeded by the escape character. After calling the search function, we know that because we're capturing groups in an expression, we can access the matching data by accessing the value at index 1\n",
    "'''"
   ]
  },
  {
   "cell_type": "code",
   "execution_count": 4,
   "id": "bd0b6b4a",
   "metadata": {},
   "outputs": [
    {
     "data": {
      "text/plain": [
       "<re.Match object; span=(13, 23), match='[51515151]'>"
      ]
     },
     "execution_count": 4,
     "metadata": {},
     "output_type": "execute_result"
    }
   ],
   "source": [
    "result = re.search(regex, \"A completely [51515151]\")\n",
    "result"
   ]
  },
  {
   "cell_type": "code",
   "execution_count": 5,
   "id": "75064ff2",
   "metadata": {},
   "outputs": [
    {
     "name": "stdout",
     "output_type": "stream",
     "text": [
      "None\n"
     ]
    }
   ],
   "source": [
    "result = re.search(regex, \"10 messi's jessy [number]\")\n",
    "print(result)"
   ]
  },
  {
   "cell_type": "code",
   "execution_count": 6,
   "id": "9ddec756",
   "metadata": {},
   "outputs": [
    {
     "name": "stdout",
     "output_type": "stream",
     "text": [
      "12345\n"
     ]
    }
   ],
   "source": [
    "def extract_pid(log_line):\n",
    "    regex = r\"\\[(\\d+)\\]\"\n",
    "    result = re.search(regex, log_line)\n",
    "    if result is None:\n",
    "        return \"\"\n",
    "    return result[1]\n",
    "print(extract_pid(log))"
   ]
  },
  {
   "cell_type": "code",
   "execution_count": 7,
   "id": "0bbb53df",
   "metadata": {},
   "outputs": [
    {
     "name": "stdout",
     "output_type": "stream",
     "text": [
      "\n"
     ]
    }
   ],
   "source": [
    "print(extract_pid(\"99 elephant in a [cage]\"))"
   ]
  },
  {
   "cell_type": "code",
   "execution_count": 11,
   "id": "802069ba",
   "metadata": {},
   "outputs": [
    {
     "data": {
      "text/plain": [
       "['one sentence', 'Another one', ' And the last one', '']"
      ]
     },
     "execution_count": 11,
     "metadata": {},
     "output_type": "execute_result"
    }
   ],
   "source": [
    "re.split(r\"[.?!]\",\"one sentence.Another one? And the last one!\")"
   ]
  },
  {
   "cell_type": "code",
   "execution_count": 12,
   "id": "956e767e",
   "metadata": {},
   "outputs": [
    {
     "data": {
      "text/plain": [
       "['one sentence', '.', 'Another one', '?', ' And the last one', '!', '']"
      ]
     },
     "execution_count": 12,
     "metadata": {},
     "output_type": "execute_result"
    }
   ],
   "source": [
    "re.split(r\"([.?!])\",\"one sentence.Another one? And the last one!\")"
   ]
  },
  {
   "cell_type": "code",
   "execution_count": 14,
   "id": "62d3b98c",
   "metadata": {},
   "outputs": [
    {
     "data": {
      "text/plain": [
       "'Received an email for [REDACTED]'"
      ]
     },
     "execution_count": 14,
     "metadata": {},
     "output_type": "execute_result"
    }
   ],
   "source": [
    "re.sub(r\"[\\w.%+-]+@[\\w.-]+\",\"[REDACTED]\",\"Received an email for goo_nuts95@my.example.com\")"
   ]
  },
  {
   "cell_type": "code",
   "execution_count": 18,
   "id": "031cb20a",
   "metadata": {},
   "outputs": [
    {
     "data": {
      "text/plain": [
       "'AdaLoveLace'"
      ]
     },
     "execution_count": 18,
     "metadata": {},
     "output_type": "execute_result"
    }
   ],
   "source": [
    "re.sub(r\"^([\\w .-]*), ([\\w .-]*)$\",r\"\\2\\1\", \"LoveLace, Ada\")"
   ]
  },
  {
   "cell_type": "code",
   "execution_count": 19,
   "id": "4b020a99",
   "metadata": {},
   "outputs": [
    {
     "name": "stdout",
     "output_type": "stream",
     "text": [
      "['beautiful']\n",
      "['Obviously', 'queen', 'courageous', 'gracious']\n",
      "['rambunctious', 'quietly', 'delicious']\n",
      "['queue']\n",
      "[]\n"
     ]
    }
   ],
   "source": [
    "import re\n",
    "def multi_vowel_words(text):\n",
    "  pattern =  r\"\\b\\w*[aeiou]{3,}\\w*\\b\"\n",
    "  result = re.findall(pattern, text)\n",
    "  return result\n",
    "\n",
    "print(multi_vowel_words(\"Life is beautiful\")) \n",
    "# ['beautiful']\n",
    "\n",
    "print(multi_vowel_words(\"Obviously, the queen is courageous and gracious.\")) \n",
    "# ['Obviously', 'queen', 'courageous', 'gracious']\n",
    "\n",
    "print(multi_vowel_words(\"The rambunctious children had to sit quietly and await their delicious dinner.\")) \n",
    "# ['rambunctious', 'quietly', 'delicious']\n",
    "\n",
    "print(multi_vowel_words(\"The order of a data queue is First In First Out (FIFO)\")) \n",
    "# ['queue']\n",
    "\n",
    "print(multi_vowel_words(\"Hello world!\")) \n",
    "# []"
   ]
  },
  {
   "cell_type": "code",
   "execution_count": 20,
   "id": "146b30fb",
   "metadata": {},
   "outputs": [
    {
     "name": "stdout",
     "output_type": "stream",
     "text": [
      "// Start of program\n",
      "  number = 0   // Initialize the variable\n",
      "  number += 1   // Increment the variable\n",
      "  return(number)\n"
     ]
    }
   ],
   "source": [
    "import re\n",
    "def transform_comments(line_of_code):\n",
    "  result = re.sub(r\"#+\", r\"//\", line_of_code)\n",
    "  return result\n",
    "\n",
    "print(transform_comments(\"### Start of program\")) \n",
    "# Should be \"// Start of program\"\n",
    "print(transform_comments(\"  number = 0   ## Initialize the variable\")) \n",
    "# Should be \"  number = 0   // Initialize the variable\"\n",
    "print(transform_comments(\"  number += 1   # Increment the variable\")) \n",
    "# Should be \"  number += 1   // Increment the variable\"\n",
    "print(transform_comments(\"  return(number)\")) \n",
    "# Should be \"  return(number)\""
   ]
  },
  {
   "cell_type": "code",
   "execution_count": null,
   "id": "c2c70835",
   "metadata": {},
   "outputs": [],
   "source": []
  }
 ],
 "metadata": {
  "kernelspec": {
   "display_name": "Python 3 (ipykernel)",
   "language": "python",
   "name": "python3"
  },
  "language_info": {
   "codemirror_mode": {
    "name": "ipython",
    "version": 3
   },
   "file_extension": ".py",
   "mimetype": "text/x-python",
   "name": "python",
   "nbconvert_exporter": "python",
   "pygments_lexer": "ipython3",
   "version": "3.10.9"
  }
 },
 "nbformat": 4,
 "nbformat_minor": 5
}
