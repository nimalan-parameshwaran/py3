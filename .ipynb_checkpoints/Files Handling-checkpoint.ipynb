{
 "cells": [
  {
   "cell_type": "code",
   "execution_count": 13,
   "id": "7b3a185e",
   "metadata": {
    "scrolled": true
   },
   "outputs": [
    {
     "name": "stdout",
     "output_type": "stream",
     "text": [
      "#files handling\n"
     ]
    }
   ],
   "source": [
    "for i in range(1):\n",
    "    print(\"#files handling\")"
   ]
  },
  {
   "cell_type": "code",
   "execution_count": 1,
   "id": "365390cc",
   "metadata": {},
   "outputs": [
    {
     "name": "stdout",
     "output_type": "stream",
     "text": [
      "No man is an island,\n",
      "\n",
      "Entire of itself,\n",
      "\n",
      "Every man is a piece of the continent,\n",
      "\n",
      "A part of the main.\n",
      "\n",
      "If a clod be washed away by the sea,\n",
      "\n",
      "Europe is the less.\n",
      "\n",
      "As well as if a promontory were.\n",
      "\n",
      "As well as if a manor of thy friendâ€™s\n",
      "\n",
      "Or of thine own were:\n",
      "\n",
      "Any manâ€™s death diminishes me,\n",
      "\n",
      "Because I am involved in mankind,\n",
      "\n",
      "And therefore never send to know for whom the bell tolls;\n",
      "\n",
      "It tolls for thee\n"
     ]
    }
   ],
   "source": [
    "#read a file and close automatically \n",
    "import os\n",
    "with open(\"C:\\\\Users\\\\nimal\\\\OneDrive\\\\Documents\\\\py3\\\\Practice.txt\",\"r\") as file:\n",
    "    a = file.read()\n",
    "    print(a)"
   ]
  },
  {
   "cell_type": "code",
   "execution_count": 2,
   "id": "ac2e5835",
   "metadata": {},
   "outputs": [
    {
     "name": "stdout",
     "output_type": "stream",
     "text": [
      "No man is an island,\n",
      "\n",
      "Entire of itself,\n",
      "\n",
      "Every man is a piece of the continent,\n",
      "\n",
      "A part of the main.\n",
      "\n",
      "If a clod be washed away by the sea,\n",
      "\n",
      "Europe is the less.\n",
      "\n",
      "As well as if a promontory were.\n",
      "\n",
      "As well as if a manor of thy friendâ€™s\n",
      "\n",
      "Or of thine own were:\n",
      "\n",
      "Any manâ€™s death diminishes me,\n",
      "\n",
      "Because I am involved in mankind,\n",
      "\n",
      "And therefore never send to know for whom the bell tolls;\n",
      "\n",
      "It tolls for thee\n"
     ]
    }
   ],
   "source": [
    "#read a file\n",
    "import os\n",
    "file = open(\"C:\\\\Users\\\\nimal\\\\OneDrive\\\\Documents\\\\py3\\\\Practice.txt\",\"r\")\n",
    "print(file.read())\n",
    "#close file\n",
    "file.close()"
   ]
  },
  {
   "cell_type": "code",
   "execution_count": 4,
   "id": "00576c66",
   "metadata": {},
   "outputs": [
    {
     "name": "stdout",
     "output_type": "stream",
     "text": [
      "No man is \n"
     ]
    }
   ],
   "source": [
    "#read a file\n",
    "import os\n",
    "file = open(\"C:\\\\Users\\\\nimal\\\\OneDrive\\\\Documents\\\\py3\\\\Practice.txt\",\"r\")\n",
    "print(file.read(10))\n",
    "#close file\n",
    "file.close()\n",
    "\n",
    "#file read ten char include space"
   ]
  },
  {
   "cell_type": "code",
   "execution_count": 9,
   "id": "5ebf76d8",
   "metadata": {},
   "outputs": [
    {
     "name": "stdout",
     "output_type": "stream",
     "text": [
      "No man is an island,\n",
      "\n"
     ]
    }
   ],
   "source": [
    "#read line\n",
    "#read a file\n",
    "import os\n",
    "file = open(\"C:\\\\Users\\\\nimal\\\\OneDrive\\\\Documents\\\\py3\\\\Practice.txt\",\"r\")\n",
    "print(file.readline())\n",
    "#close file\n",
    "file.close()"
   ]
  },
  {
   "cell_type": "code",
   "execution_count": 11,
   "id": "fce86f45",
   "metadata": {},
   "outputs": [
    {
     "name": "stdout",
     "output_type": "stream",
     "text": [
      "['No man is an island,\\n', '\\n', 'Entire of itself,\\n', '\\n', 'Every man is a piece of the continent,\\n', '\\n', 'A part of the main.\\n', '\\n', 'If a clod be washed away by the sea,\\n', '\\n', 'Europe is the less.\\n', '\\n', 'As well as if a promontory were.\\n', '\\n', 'As well as if a manor of thy friendâ€™s\\n', '\\n', 'Or of thine own were:\\n', '\\n', 'Any manâ€™s death diminishes me,\\n', '\\n', 'Because I am involved in mankind,\\n', '\\n', 'And therefore never send to know for whom the bell tolls;\\n', '\\n', 'It tolls for thee']\n"
     ]
    },
    {
     "data": {
      "text/plain": [
       "'new lines are separated by \",\\n\" '"
      ]
     },
     "execution_count": 11,
     "metadata": {},
     "output_type": "execute_result"
    }
   ],
   "source": [
    "#read line one by one\n",
    "#read a file\n",
    "import os\n",
    "file = open(\"C:\\\\Users\\\\nimal\\\\OneDrive\\\\Documents\\\\py3\\\\Practice.txt\",\"r\")\n",
    "print(file.readlines())\n",
    "#close file\n",
    "file.close()\n",
    "'''new lines are separated by \",\\n\" '''"
   ]
  },
  {
   "cell_type": "code",
   "execution_count": 13,
   "id": "e0b2b099",
   "metadata": {},
   "outputs": [],
   "source": [
    "#write line\n",
    "import os\n",
    "file = open(\"C:\\\\Users\\\\nimal\\\\OneDrive\\\\Documents\\\\py3\\\\Practice.txt\",\"w\")\n",
    "file.write(\"hi!, i'm nimalan\")\n",
    "#close file\n",
    "file.close()"
   ]
  },
  {
   "cell_type": "code",
   "execution_count": 17,
   "id": "90d35a25",
   "metadata": {},
   "outputs": [],
   "source": [
    "'''we use \"X\" for open new file'''\n",
    "import os\n",
    "file = open(\"C:\\\\Users\\\\nimal\\\\OneDrive\\\\Documents\\\\py3\\\\Practice1.txt\",\"x\")\n",
    "#write a line\n",
    "file.write('open a new file through py3')\n",
    "#close file\n",
    "file.close()"
   ]
  },
  {
   "cell_type": "code",
   "execution_count": 18,
   "id": "ea2bb641",
   "metadata": {},
   "outputs": [],
   "source": [
    "#remove the file or delete the file\n",
    "import os\n",
    "os.remove(\"C:\\\\Users\\\\nimal\\\\OneDrive\\\\Documents\\\\py3\\\\Practice2.txt\")"
   ]
  },
  {
   "cell_type": "code",
   "execution_count": 19,
   "id": "e7259bd4",
   "metadata": {},
   "outputs": [
    {
     "name": "stdout",
     "output_type": "stream",
     "text": [
      "There is no file\n"
     ]
    }
   ],
   "source": [
    "#To confirm whether file is exists or not\n",
    "\n",
    "if os.path.exists(\"C:\\\\Users\\\\nimal\\\\OneDrive\\\\Documents\\\\py3\\\\Practice2txt\"):\n",
    "    os.remove(\"practice2.txt\")\n",
    "else:\n",
    "    print(\"There is no file\")"
   ]
  },
  {
   "cell_type": "code",
   "execution_count": 21,
   "id": "bf531750",
   "metadata": {},
   "outputs": [
    {
     "name": "stdout",
     "output_type": "stream",
     "text": [
      "['1\\n', '2\\n', '3\\n', '4\\n', '5\\n', '6\\n', '7\\n', '8\\n', '9\\n', '10']\n"
     ]
    }
   ],
   "source": [
    "#read a file\n",
    "import os\n",
    "file = open(\"C:\\\\Users\\\\nimal\\\\OneDrive\\\\Documents\\\\py3\\\\Practice.txt\",\"r\")\n",
    "#print line by line\n",
    "for line in file:\n",
    "    print(file.readlines())\n",
    "#close file\n",
    "file.close()"
   ]
  },
  {
   "cell_type": "code",
   "execution_count": null,
   "id": "27f45066",
   "metadata": {},
   "outputs": [],
   "source": []
  }
 ],
 "metadata": {
  "kernelspec": {
   "display_name": "Python 3 (ipykernel)",
   "language": "python",
   "name": "python3"
  },
  "language_info": {
   "codemirror_mode": {
    "name": "ipython",
    "version": 3
   },
   "file_extension": ".py",
   "mimetype": "text/x-python",
   "name": "python",
   "nbconvert_exporter": "python",
   "pygments_lexer": "ipython3",
   "version": "3.10.9"
  }
 },
 "nbformat": 4,
 "nbformat_minor": 5
}
