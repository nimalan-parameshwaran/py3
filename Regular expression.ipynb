{
 "cells": [
  {
   "cell_type": "markdown",
   "id": "44fa59d9",
   "metadata": {},
   "source": [
    "# Regular expression\n",
    "\n",
    " first impot regex[ import re ]\n",
    ">special sequence of characters that uses a search pattern to find a string or set of strings.\n",
    "\n",
    ">It can detect the presence or absence of a text by matching it with a particular pattern, and also can split a pattern into one or more sub-patterns\n",
    "\n",
    ">\"re\"module that supports the use of regex in Python.\n",
    "\n",
    ">Here, it either returns the first match or else none.\n"
   ]
  },
  {
   "cell_type": "code",
   "execution_count": 19,
   "id": "6d8390d8",
   "metadata": {},
   "outputs": [
    {
     "name": "stdout",
     "output_type": "stream",
     "text": [
      "Start Index: 19\n",
      "End Index: 25\n"
     ]
    }
   ],
   "source": [
    "import re\n",
    "\n",
    "s = 'A computer science portal'\n",
    "\n",
    "match = re.search(r'portal', s)\n",
    "\n",
    "print('Start Index:', match.start())\n",
    "print('End Index:', match.end())"
   ]
  },
  {
   "cell_type": "code",
   "execution_count": 18,
   "id": "2a67553d",
   "metadata": {},
   "outputs": [
    {
     "name": "stdout",
     "output_type": "stream",
     "text": [
      "Start Index: 2\n",
      "End Index: 3\n"
     ]
    }
   ],
   "source": [
    "import re\n",
    "\n",
    "s = '123456'\n",
    "'''  012345678  '''\n",
    "match = re.search(r'3', s)\n",
    "\n",
    "print('Start Index:', match.start())\n",
    "print('End Index:', match.end())\n"
   ]
  },
  {
   "cell_type": "raw",
   "id": "a59f6c2e",
   "metadata": {},
   "source": [
    "MetaCharacters\n",
    "To understand the RE analogy, MetaCharacters are useful, important, and will be used in functions of module re. Below is the list of metacharacters.\n",
    "\n",
    "MetaCharacters\tDescription\n",
    "\\\tUsed to drop the special meaning of character following it\n",
    "[]\tRepresent a character class\n",
    "^\tMatches the beginning\n",
    "$\tMatches the end\n",
    ".\tMatches any character except newline\n",
    "|\tMeans OR (Matches with any of the characters separated by it.\n",
    "?\tMatches zero or one occurrence\n",
    "*\tAny number of occurrences (including 0 occurrences)\n",
    "+\tOne or more occurrences\n",
    "{}\tIndicate the number of occurrences of a preceding regex to match.\n",
    "()\tEnclose a group of Regex"
   ]
  },
  {
   "cell_type": "raw",
   "id": "3b0467d5",
   "metadata": {},
   "source": [
    "re.match(pattern, string) # to use the match method\n",
    "re.findall(pattern, string) # to use the findall method \n",
    "re.sub(pattern, string) # to use the sub method\n",
    "re.search(pattern, string) # to use the search method \n",
    "re.split(pattern, string) # to use the split method"
   ]
  },
  {
   "cell_type": "code",
   "execution_count": null,
   "id": "cfd3f901",
   "metadata": {},
   "outputs": [],
   "source": [
    "# match() Method"
   ]
  },
  {
   "cell_type": "code",
   "execution_count": 3,
   "id": "7d3d4e98",
   "metadata": {},
   "outputs": [
    {
     "name": "stdout",
     "output_type": "stream",
     "text": [
      "None\n"
     ]
    },
    {
     "data": {
      "text/plain": [
       "'There are some uppercase letters in the _txt variable, but the pattern is looking for lowercase letters.'"
      ]
     },
     "execution_count": 3,
     "metadata": {},
     "output_type": "execute_result"
    }
   ],
   "source": [
    "import re \n",
    "\n",
    "_txt = 'freeCodeCamp'\n",
    "regex_1 = '^freecodecamp$'\n",
    "\n",
    "result = re.match(regex_1, _txt)\n",
    "print(result) \n",
    "\n",
    "'''There are some uppercase letters in the _txt variable, but the pattern is looking for lowercase letters.'''\n",
    "# returns None"
   ]
  },
  {
   "cell_type": "code",
   "execution_count": 4,
   "id": "b19b4e5f",
   "metadata": {},
   "outputs": [
    {
     "name": "stdout",
     "output_type": "stream",
     "text": [
      "<re.Match object; span=(0, 12), match='freecodecamp'>\n"
     ]
    },
    {
     "data": {
      "text/plain": [
       "\" '^freecodecamp$' \""
      ]
     },
     "execution_count": 4,
     "metadata": {},
     "output_type": "execute_result"
    }
   ],
   "source": [
    "import re \n",
    "\n",
    "_txt = 'freecodecamp'\n",
    "regex_1 = '^freecodecamp$'\n",
    "\n",
    "result = re.match(regex_1, _txt)\n",
    "print(result) \n",
    "\n",
    "''' '^freecodecamp$' '''"
   ]
  },
  {
   "cell_type": "code",
   "execution_count": 5,
   "id": "d3f09b5a",
   "metadata": {},
   "outputs": [
    {
     "name": "stdout",
     "output_type": "stream",
     "text": [
      "<re.Match object; span=(0, 12), match='freecodecamp'>\n"
     ]
    },
    {
     "data": {
      "text/plain": [
       "\" '^f..........p$' \""
      ]
     },
     "execution_count": 5,
     "metadata": {},
     "output_type": "execute_result"
    }
   ],
   "source": [
    "import re \n",
    "\n",
    "_txt = 'freecodecamp'\n",
    "regex_1 = '^f..........p$'\n",
    "\n",
    "result = re.match(regex_1, _txt)\n",
    "print(result) \n",
    "\n",
    "''' '^f..........p$' '''"
   ]
  },
  {
   "cell_type": "code",
   "execution_count": null,
   "id": "963a24a6",
   "metadata": {},
   "outputs": [],
   "source": [
    "#search() Method"
   ]
  },
  {
   "cell_type": "code",
   "execution_count": 8,
   "id": "8b377304",
   "metadata": {},
   "outputs": [
    {
     "name": "stdout",
     "output_type": "stream",
     "text": [
      "<re.Match object; span=(6, 12), match='Friday'>\n"
     ]
    }
   ],
   "source": [
    "import re \n",
    "\n",
    "my_txt = 'Every Friday, we have a standup meeting. The only reason why we might not have a meeting on a Friday is public holiday. That Friday, we talk about what we did in the previous week, and what we are going to do in the week starting from that Friday.'\n",
    "\n",
    "my_regex = 'friday'\n",
    "\n",
    "res = re.search(my_regex, my_txt, re.IGNORECASE)\n",
    "print(res) \n",
    "\n",
    "# <re.Match object; span=(6, 12), match='Friday'>\n",
    "\n",
    "# (my_regex, my_txt, re.IGNORECASE)\n",
    "\n",
    "#re.IGNORECASE ~ use "
   ]
  },
  {
   "cell_type": "code",
   "execution_count": 9,
   "id": "4b628c24",
   "metadata": {},
   "outputs": [
    {
     "name": "stdout",
     "output_type": "stream",
     "text": [
      "The first occurrence is located at index  6\n"
     ]
    }
   ],
   "source": [
    "res = re.search(my_regex, my_txt, re.IGNORECASE)\n",
    "print(\"The first occurrence is located at index \", res.start())\n",
    "\n",
    "''' res.start() '''\n",
    "# The first occurrence is located at index  6"
   ]
  },
  {
   "cell_type": "code",
   "execution_count": 11,
   "id": "f2b66a9c",
   "metadata": {},
   "outputs": [
    {
     "name": "stdout",
     "output_type": "stream",
     "text": [
      "The first occurrence is located between index 6 and index 12\n"
     ]
    },
    {
     "data": {
      "text/plain": [
       "' res.start()  res.end() '"
      ]
     },
     "execution_count": 11,
     "metadata": {},
     "output_type": "execute_result"
    }
   ],
   "source": [
    "res = re.search(my_regex, my_txt, re.IGNORECASE)\n",
    "print(\"The first occurrence is located between index\", res.start(), \"and index\", res.end()) \n",
    "\n",
    "''' res.start()  res.end() '''\n",
    "# The first occurrence is located between index 6 and index 12"
   ]
  },
  {
   "cell_type": "code",
   "execution_count": 13,
   "id": "8e863bb8",
   "metadata": {},
   "outputs": [
    {
     "name": "stdout",
     "output_type": "stream",
     "text": [
      "Found no match\n"
     ]
    }
   ],
   "source": [
    "import re \n",
    "\n",
    "my_txt = 'Every Friday, we have a standup meeting. The only reason why we might not have a meeting on a Friday is public holiday. That Friday, we talk about what we did in the previous week, and what we are going to do in the week starting from that Friday.'\n",
    "\n",
    "my_regex = 'friday'\n",
    "\n",
    "if re.search(my_regex, my_txt, re.IGNORECASE):\n",
    "    print(\"Found a match!\") #Output: Found a match!\n",
    "else:\n",
    "    print(\"Found no match\")   \n",
    "res = re.search(my_regex, my_txt, re.IGNORECASE)"
   ]
  },
  {
   "cell_type": "code",
   "execution_count": 15,
   "id": "02ff95a5",
   "metadata": {},
   "outputs": [
    {
     "name": "stdout",
     "output_type": "stream",
     "text": [
      "Found no match\n"
     ]
    }
   ],
   "source": [
    "import re \n",
    "\n",
    "my_txt = 'Every Friday, we have a standup meeting. The only reason why we might not have a meeting on a Friday is public holiday. That Friday, we talk about what we did in the previous week, and what we are going to do in the week starting from that Friday.'\n",
    "\n",
    "my_regex = 'friday'\n",
    "\n",
    "if re.search(my_regex, my_txt):\n",
    "    print(\"Found a match!\")\n",
    "else:\n",
    "    print(\"Found no match\")   \n",
    "res = re.search(my_regex, my_txt, re.IGNORECASE)\n",
    "#Output: Found no match"
   ]
  },
  {
   "cell_type": "code",
   "execution_count": 6,
   "id": "0d8c6a52",
   "metadata": {},
   "outputs": [
    {
     "name": "stdout",
     "output_type": "stream",
     "text": [
      "12345\n"
     ]
    }
   ],
   "source": [
    "log = \"july 31 07:51:48 mycomputer bad process[12345]: ERROR Performing package upgrade\"\n",
    "index = log.index(\"[\")\n",
    "print(log[index+1:index+6])\n",
    "# the code uses string slicing to extract the characters from the log string starting at the character immediately after the opening square bracket (index+1) up to but not including the character at index+6. These characters correspond to the process ID in the log message, which in this case is \"12345\""
   ]
  },
  {
   "cell_type": "code",
   "execution_count": 7,
   "id": "5a0a7b25",
   "metadata": {},
   "outputs": [
    {
     "name": "stdout",
     "output_type": "stream",
     "text": [
      "12345\n"
     ]
    }
   ],
   "source": [
    "import re\n",
    "log = \"july 31 07:51:48 mycomputer bad process[12345]: ERROR Performing package upgrade\"\n",
    "regex = r\"\\[(\\d+)\\]\"\n",
    "result = re.search(regex, log)\n",
    "print(result[1])"
   ]
  },
  {
   "cell_type": "code",
   "execution_count": 9,
   "id": "460b74c1",
   "metadata": {},
   "outputs": [
    {
     "data": {
      "text/plain": [
       "<re.Match object; span=(2, 5), match='aza'>"
      ]
     },
     "execution_count": 9,
     "metadata": {},
     "output_type": "execute_result"
    }
   ],
   "source": [
    "import re\n",
    "result = re.search(r\"aza\",\"plaza\")\n",
    "result"
   ]
  },
  {
   "cell_type": "code",
   "execution_count": 10,
   "id": "316965f5",
   "metadata": {},
   "outputs": [
    {
     "data": {
      "text/plain": [
       "<re.Match object; span=(1, 4), match='aza'>"
      ]
     },
     "execution_count": 10,
     "metadata": {},
     "output_type": "execute_result"
    }
   ],
   "source": [
    "result = re.search(r\"aza\",\"bazaar\")\n",
    "result"
   ]
  },
  {
   "cell_type": "code",
   "execution_count": 15,
   "id": "ae0bf10a",
   "metadata": {},
   "outputs": [
    {
     "name": "stdout",
     "output_type": "stream",
     "text": [
      "None\n"
     ]
    }
   ],
   "source": [
    "result = re.search(r\"aza\",\"maze\")\n",
    "print(result)"
   ]
  },
  {
   "cell_type": "code",
   "execution_count": 18,
   "id": "de6e96a5",
   "metadata": {},
   "outputs": [
    {
     "name": "stdout",
     "output_type": "stream",
     "text": [
      "<re.Match object; span=(0, 1), match='x'>\n"
     ]
    }
   ],
   "source": [
    "print(re.search(r\"^x\",\"xenon\"))"
   ]
  },
  {
   "cell_type": "code",
   "execution_count": 19,
   "id": "116c73b0",
   "metadata": {},
   "outputs": [
    {
     "name": "stdout",
     "output_type": "stream",
     "text": [
      "<re.Match object; span=(0, 4), match='peng'>\n"
     ]
    }
   ],
   "source": [
    "print(re.search(r\"p.ng\", \"penguin\"))"
   ]
  },
  {
   "cell_type": "code",
   "execution_count": 20,
   "id": "c54f4001",
   "metadata": {},
   "outputs": [
    {
     "name": "stdout",
     "output_type": "stream",
     "text": [
      "<re.Match object; span=(4, 8), match='ping'>\n"
     ]
    }
   ],
   "source": [
    "print(re.search(r\"p.ng\", \"clapping\"))"
   ]
  },
  {
   "cell_type": "code",
   "execution_count": 21,
   "id": "9800dd66",
   "metadata": {},
   "outputs": [
    {
     "name": "stdout",
     "output_type": "stream",
     "text": [
      "<re.Match object; span=(1, 5), match='pong'>\n"
     ]
    }
   ],
   "source": [
    "print(re.search(r\"p.ng\", \"sponge\"))"
   ]
  },
  {
   "cell_type": "code",
   "execution_count": 22,
   "id": "eb4bd05f",
   "metadata": {},
   "outputs": [
    {
     "name": "stdout",
     "output_type": "stream",
     "text": [
      "<re.Match object; span=(0, 4), match='PeNg'>\n"
     ]
    }
   ],
   "source": [
    "print(re.search(r\"p.ng\", \"PeNguin\",re.IGNORECASE))"
   ]
  },
  {
   "cell_type": "code",
   "execution_count": 23,
   "id": "4f82fca9",
   "metadata": {},
   "outputs": [
    {
     "name": "stdout",
     "output_type": "stream",
     "text": [
      "<re.Match object; span=(2, 6), match='LCOM'>\n"
     ]
    }
   ],
   "source": [
    "print(re.search(r\".COM\", \"WELCOME\"))"
   ]
  },
  {
   "cell_type": "code",
   "execution_count": 24,
   "id": "a2daaf8a",
   "metadata": {},
   "outputs": [
    {
     "name": "stdout",
     "output_type": "stream",
     "text": [
      "None\n"
     ]
    }
   ],
   "source": [
    "print(re.search(r\"\\.COM\", \"WELCOME\"))"
   ]
  },
  {
   "cell_type": "code",
   "execution_count": 25,
   "id": "ee86ff68",
   "metadata": {},
   "outputs": [
    {
     "name": "stdout",
     "output_type": "stream",
     "text": [
      "<re.Match object; span=(16, 20), match='.com'>\n"
     ]
    }
   ],
   "source": [
    "print(re.search(r\"\\.com\", \"nimalan936@gmail.com\"))"
   ]
  },
  {
   "cell_type": "code",
   "execution_count": 26,
   "id": "0998e681",
   "metadata": {},
   "outputs": [
    {
     "data": {
      "text/plain": [
       "\" \\n is a sequence using Python to indicate a new line, and \\t does the same for tabs. When we see a pattern that includes a backslash, it could be escaping a special regex character or a special string character. Using raw strings, like we've been doing, helps avoid some of these possible confusion because the special characters won't be interpreted when generating the string.\""
      ]
     },
     "execution_count": 26,
     "metadata": {},
     "output_type": "execute_result"
    }
   ],
   "source": [
    "''' \\n is a sequence using Python to indicate a new line, and \\t does the same for tabs. When we see a pattern that includes a backslash, it could be escaping a special regex character or a special string character. Using raw strings, like we've been doing, helps avoid some of these possible confusion because the special characters won't be interpreted when generating the string.'''"
   ]
  },
  {
   "cell_type": "code",
   "execution_count": 27,
   "id": "2a90b67d",
   "metadata": {},
   "outputs": [
    {
     "name": "stdout",
     "output_type": "stream",
     "text": [
      "<re.Match object; span=(0, 4), match='This'>\n"
     ]
    }
   ],
   "source": [
    "print(re.search(r\"\\w*\", \"This is an example\"))"
   ]
  },
  {
   "cell_type": "code",
   "execution_count": 29,
   "id": "f72e3452",
   "metadata": {},
   "outputs": [
    {
     "name": "stdout",
     "output_type": "stream",
     "text": [
      "<re.Match object; span=(0, 19), match='And_this_is_another'>\n"
     ]
    }
   ],
   "source": [
    "print(re.search(r\"\\w*\", \"And_this_is_another\"))"
   ]
  },
  {
   "cell_type": "code",
   "execution_count": 35,
   "id": "f3115f86",
   "metadata": {},
   "outputs": [
    {
     "name": "stdout",
     "output_type": "stream",
     "text": [
      "<re.Match object; span=(0, 9), match='Argentina'>\n"
     ]
    }
   ],
   "source": [
    "print(re.search(r\"A.*a\",\"Argentina\"))"
   ]
  },
  {
   "cell_type": "code",
   "execution_count": 32,
   "id": "4bd6fc8b",
   "metadata": {},
   "outputs": [
    {
     "name": "stdout",
     "output_type": "stream",
     "text": [
      "<re.Match object; span=(0, 9), match='Azerbaija'>\n"
     ]
    }
   ],
   "source": [
    "print(re.search(r\"A.*a\",\"Azerbaijan\"))"
   ]
  },
  {
   "cell_type": "code",
   "execution_count": 33,
   "id": "3dce4276",
   "metadata": {},
   "outputs": [
    {
     "name": "stdout",
     "output_type": "stream",
     "text": [
      "None\n"
     ]
    }
   ],
   "source": [
    "print(re.search(r\"A.*a$\",\"Azerbaijan\"))"
   ]
  },
  {
   "cell_type": "code",
   "execution_count": 36,
   "id": "fb465846",
   "metadata": {},
   "outputs": [
    {
     "name": "stdout",
     "output_type": "stream",
     "text": [
      "<re.Match object; span=(0, 9), match='Australia'>\n"
     ]
    }
   ],
   "source": [
    "print(re.search(r\"A.*a$\",\"Australia\"))"
   ]
  },
  {
   "cell_type": "code",
   "execution_count": 39,
   "id": "fc931ca0",
   "metadata": {},
   "outputs": [
    {
     "name": "stdout",
     "output_type": "stream",
     "text": [
      "<re.Match object; span=(0, 30), match='_this_is_a_valid_variable_name'>\n"
     ]
    }
   ],
   "source": [
    "pattern = r\"^[a-zA-z_][a-zA-Z0-9_]*$\"\n",
    "print(re.search(pattern,\"_this_is_a_valid_variable_name\"))"
   ]
  },
  {
   "cell_type": "code",
   "execution_count": 40,
   "id": "3796b67f",
   "metadata": {},
   "outputs": [
    {
     "name": "stdout",
     "output_type": "stream",
     "text": [
      "None\n"
     ]
    }
   ],
   "source": [
    "print(re.search(pattern,\"this is a valid variable name\"))"
   ]
  },
  {
   "cell_type": "code",
   "execution_count": 41,
   "id": "6fa39d8d",
   "metadata": {},
   "outputs": [
    {
     "name": "stdout",
     "output_type": "stream",
     "text": [
      "<re.Match object; span=(0, 11), match='my_variable'>\n"
     ]
    }
   ],
   "source": [
    "print(re.search(pattern,\"my_variable\"))"
   ]
  },
  {
   "cell_type": "code",
   "execution_count": 42,
   "id": "539c7e90",
   "metadata": {},
   "outputs": [
    {
     "name": "stdout",
     "output_type": "stream",
     "text": [
      "None\n"
     ]
    }
   ],
   "source": [
    "print(re.search(pattern,\"22this_is_a_valid_variable_name\"))"
   ]
  },
  {
   "cell_type": "code",
   "execution_count": null,
   "id": "62f408a1",
   "metadata": {},
   "outputs": [],
   "source": []
  }
 ],
 "metadata": {
  "kernelspec": {
   "display_name": "Python 3 (ipykernel)",
   "language": "python",
   "name": "python3"
  },
  "language_info": {
   "codemirror_mode": {
    "name": "ipython",
    "version": 3
   },
   "file_extension": ".py",
   "mimetype": "text/x-python",
   "name": "python",
   "nbconvert_exporter": "python",
   "pygments_lexer": "ipython3",
   "version": "3.10.9"
  }
 },
 "nbformat": 4,
 "nbformat_minor": 5
}
