{
 "cells": [
  {
   "cell_type": "markdown",
   "id": "44fa59d9",
   "metadata": {},
   "source": [
    "# Regular expression\n",
    "\n",
    " first impot regex[ import re ]\n",
    ">special sequence of characters that uses a search pattern to find a string or set of strings.\n",
    "\n",
    ">It can detect the presence or absence of a text by matching it with a particular pattern, and also can split a pattern into one or more sub-patterns\n",
    "\n",
    ">\"re\"module that supports the use of regex in Python.\n",
    "\n",
    ">Here, it either returns the first match or else none.\n"
   ]
  },
  {
   "cell_type": "code",
   "execution_count": 19,
   "id": "6d8390d8",
   "metadata": {},
   "outputs": [
    {
     "name": "stdout",
     "output_type": "stream",
     "text": [
      "Start Index: 19\n",
      "End Index: 25\n"
     ]
    }
   ],
   "source": [
    "import re\n",
    "\n",
    "s = 'A computer science portal'\n",
    "\n",
    "match = re.search(r'portal', s)\n",
    "\n",
    "print('Start Index:', match.start())\n",
    "print('End Index:', match.end())"
   ]
  },
  {
   "cell_type": "code",
   "execution_count": 18,
   "id": "2a67553d",
   "metadata": {},
   "outputs": [
    {
     "name": "stdout",
     "output_type": "stream",
     "text": [
      "Start Index: 2\n",
      "End Index: 3\n"
     ]
    }
   ],
   "source": [
    "import re\n",
    "\n",
    "s = '123456'\n",
    "'''  012345678  '''\n",
    "match = re.search(r'3', s)\n",
    "\n",
    "print('Start Index:', match.start())\n",
    "print('End Index:', match.end())\n"
   ]
  },
  {
   "cell_type": "raw",
   "id": "1e1b4ee5",
   "metadata": {},
   "source": [
    "MetaCharacters\n",
    "To understand the RE analogy, MetaCharacters are useful, important, and will be used in functions of module re. Below is the list of metacharacters.\n",
    "\n",
    "MetaCharacters\tDescription\n",
    "\\\tUsed to drop the special meaning of character following it\n",
    "[]\tRepresent a character class\n",
    "^\tMatches the beginning\n",
    "$\tMatches the end\n",
    ".\tMatches any character except newline\n",
    "|\tMeans OR (Matches with any of the characters separated by it.\n",
    "?\tMatches zero or one occurrence\n",
    "*\tAny number of occurrences (including 0 occurrences)\n",
    "+\tOne or more occurrences\n",
    "{}\tIndicate the number of occurrences of a preceding regex to match.\n",
    "()\tEnclose a group of Regex"
   ]
  },
  {
   "cell_type": "raw",
   "id": "007b0acf",
   "metadata": {},
   "source": [
    "re.match(pattern, string) # to use the match method\n",
    "re.findall(pattern, string) # to use the findall method \n",
    "re.sub(pattern, string) # to use the sub method\n",
    "re.search(pattern, string) # to use the search method \n",
    "re.split(pattern, string) # to use the split method"
   ]
  },
  {
   "cell_type": "code",
   "execution_count": null,
   "id": "4e8394be",
   "metadata": {},
   "outputs": [],
   "source": [
    "# match() Method"
   ]
  },
  {
   "cell_type": "code",
   "execution_count": 3,
   "id": "bc541827",
   "metadata": {},
   "outputs": [
    {
     "name": "stdout",
     "output_type": "stream",
     "text": [
      "None\n"
     ]
    },
    {
     "data": {
      "text/plain": [
       "'There are some uppercase letters in the _txt variable, but the pattern is looking for lowercase letters.'"
      ]
     },
     "execution_count": 3,
     "metadata": {},
     "output_type": "execute_result"
    }
   ],
   "source": [
    "import re \n",
    "\n",
    "_txt = 'freeCodeCamp'\n",
    "regex_1 = '^freecodecamp$'\n",
    "\n",
    "result = re.match(regex_1, _txt)\n",
    "print(result) \n",
    "\n",
    "'''There are some uppercase letters in the _txt variable, but the pattern is looking for lowercase letters.'''\n",
    "# returns None"
   ]
  },
  {
   "cell_type": "code",
   "execution_count": 4,
   "id": "f54b566a",
   "metadata": {},
   "outputs": [
    {
     "name": "stdout",
     "output_type": "stream",
     "text": [
      "<re.Match object; span=(0, 12), match='freecodecamp'>\n"
     ]
    },
    {
     "data": {
      "text/plain": [
       "\" '^freecodecamp$' \""
      ]
     },
     "execution_count": 4,
     "metadata": {},
     "output_type": "execute_result"
    }
   ],
   "source": [
    "import re \n",
    "\n",
    "_txt = 'freecodecamp'\n",
    "regex_1 = '^freecodecamp$'\n",
    "\n",
    "result = re.match(regex_1, _txt)\n",
    "print(result) \n",
    "\n",
    "''' '^freecodecamp$' '''"
   ]
  },
  {
   "cell_type": "code",
   "execution_count": 5,
   "id": "47e8f3e4",
   "metadata": {},
   "outputs": [
    {
     "name": "stdout",
     "output_type": "stream",
     "text": [
      "<re.Match object; span=(0, 12), match='freecodecamp'>\n"
     ]
    },
    {
     "data": {
      "text/plain": [
       "\" '^f..........p$' \""
      ]
     },
     "execution_count": 5,
     "metadata": {},
     "output_type": "execute_result"
    }
   ],
   "source": [
    "import re \n",
    "\n",
    "_txt = 'freecodecamp'\n",
    "regex_1 = '^f..........p$'\n",
    "\n",
    "result = re.match(regex_1, _txt)\n",
    "print(result) \n",
    "\n",
    "''' '^f..........p$' '''"
   ]
  },
  {
   "cell_type": "code",
   "execution_count": null,
   "id": "f9f4a4c2",
   "metadata": {},
   "outputs": [],
   "source": [
    "#search() Method"
   ]
  },
  {
   "cell_type": "code",
   "execution_count": 8,
   "id": "18544e81",
   "metadata": {},
   "outputs": [
    {
     "name": "stdout",
     "output_type": "stream",
     "text": [
      "<re.Match object; span=(6, 12), match='Friday'>\n"
     ]
    }
   ],
   "source": [
    "import re \n",
    "\n",
    "my_txt = 'Every Friday, we have a standup meeting. The only reason why we might not have a meeting on a Friday is public holiday. That Friday, we talk about what we did in the previous week, and what we are going to do in the week starting from that Friday.'\n",
    "\n",
    "my_regex = 'friday'\n",
    "\n",
    "res = re.search(my_regex, my_txt, re.IGNORECASE)\n",
    "print(res) \n",
    "\n",
    "# <re.Match object; span=(6, 12), match='Friday'>\n",
    "\n",
    "# (my_regex, my_txt, re.IGNORECASE)\n",
    "\n",
    "#re.IGNORECASE ~ use "
   ]
  },
  {
   "cell_type": "code",
   "execution_count": 9,
   "id": "1e4ab335",
   "metadata": {},
   "outputs": [
    {
     "name": "stdout",
     "output_type": "stream",
     "text": [
      "The first occurrence is located at index  6\n"
     ]
    }
   ],
   "source": [
    "res = re.search(my_regex, my_txt, re.IGNORECASE)\n",
    "print(\"The first occurrence is located at index \", res.start())\n",
    "\n",
    "''' res.start() '''\n",
    "# The first occurrence is located at index  6"
   ]
  },
  {
   "cell_type": "code",
   "execution_count": 11,
   "id": "a7cb550d",
   "metadata": {},
   "outputs": [
    {
     "name": "stdout",
     "output_type": "stream",
     "text": [
      "The first occurrence is located between index 6 and index 12\n"
     ]
    },
    {
     "data": {
      "text/plain": [
       "' res.start()  res.end() '"
      ]
     },
     "execution_count": 11,
     "metadata": {},
     "output_type": "execute_result"
    }
   ],
   "source": [
    "res = re.search(my_regex, my_txt, re.IGNORECASE)\n",
    "print(\"The first occurrence is located between index\", res.start(), \"and index\", res.end()) \n",
    "\n",
    "''' res.start()  res.end() '''\n",
    "# The first occurrence is located between index 6 and index 12"
   ]
  },
  {
   "cell_type": "code",
   "execution_count": 13,
   "id": "72105282",
   "metadata": {},
   "outputs": [
    {
     "name": "stdout",
     "output_type": "stream",
     "text": [
      "Found no match\n"
     ]
    }
   ],
   "source": [
    "import re \n",
    "\n",
    "my_txt = 'Every Friday, we have a standup meeting. The only reason why we might not have a meeting on a Friday is public holiday. That Friday, we talk about what we did in the previous week, and what we are going to do in the week starting from that Friday.'\n",
    "\n",
    "my_regex = 'friday'\n",
    "\n",
    "if re.search(my_regex, my_txt, re.IGNORECASE):\n",
    "    print(\"Found a match!\") #Output: Found a match!\n",
    "else:\n",
    "    print(\"Found no match\")   \n",
    "res = re.search(my_regex, my_txt, re.IGNORECASE)"
   ]
  },
  {
   "cell_type": "code",
   "execution_count": 15,
   "id": "0c47825a",
   "metadata": {},
   "outputs": [
    {
     "name": "stdout",
     "output_type": "stream",
     "text": [
      "Found no match\n"
     ]
    }
   ],
   "source": [
    "import re \n",
    "\n",
    "my_txt = 'Every Friday, we have a standup meeting. The only reason why we might not have a meeting on a Friday is public holiday. That Friday, we talk about what we did in the previous week, and what we are going to do in the week starting from that Friday.'\n",
    "\n",
    "my_regex = 'friday'\n",
    "\n",
    "if re.search(my_regex, my_txt):\n",
    "    print(\"Found a match!\")\n",
    "else:\n",
    "    print(\"Found no match\")   \n",
    "res = re.search(my_regex, my_txt, re.IGNORECASE)\n",
    "#Output: Found no match"
   ]
  },
  {
   "cell_type": "code",
   "execution_count": null,
   "id": "81ac77c5",
   "metadata": {},
   "outputs": [],
   "source": []
  }
 ],
 "metadata": {
  "kernelspec": {
   "display_name": "Python 3 (ipykernel)",
   "language": "python",
   "name": "python3"
  },
  "language_info": {
   "codemirror_mode": {
    "name": "ipython",
    "version": 3
   },
   "file_extension": ".py",
   "mimetype": "text/x-python",
   "name": "python",
   "nbconvert_exporter": "python",
   "pygments_lexer": "ipython3",
   "version": "3.10.9"
  }
 },
 "nbformat": 4,
 "nbformat_minor": 5
}
